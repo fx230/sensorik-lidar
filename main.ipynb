{
 "cells": [
  {
   "cell_type": "markdown",
   "source": [
    "# Mainfunction"
   ],
   "metadata": {
    "collapsed": false,
    "pycharm": {
     "name": "#%% md\n"
    }
   }
  },
  {
   "cell_type": "code",
   "source": [
    "# Greeting:\n",
    "print(\"LIDAR - Light Image Detection And Ranging\\n\"\n",
    "      \"Teammates:\\n\"\n",
    "      \"Tobias Bayer (Teamleader)\\n\"\n",
    "      \"Moritz Schirmer\\n\"\n",
    "      \"Felix Rasch\\n\"\n",
    "      \"Bruno Hermenau\\n\"\n",
    "      \"Oliver Schmidt\\n\"\n",
    "      \"Markus Pauly\")\n"
   ],
   "metadata": {
    "collapsed": false,
    "pycharm": {
     "name": "#%%\n"
    }
   },
   "execution_count": 2,
   "outputs": [
    {
     "name": "stdout",
     "output_type": "stream",
     "text": [
      "LIDAR - Light Image Detection And Ranging\n",
      "Teammates:\n",
      "Tobias Bayer (Teamleader)\n",
      "Moritz Schirmer\n",
      "Felix Rasch\n",
      "Bruno Hermenau\n",
      "Oliver Schmidt\n",
      "Markus Pauly\n"
     ]
    }
   ]
  },
  {
   "cell_type": "markdown",
   "source": [],
   "metadata": {
    "collapsed": false,
    "pycharm": {
     "name": "#%% md"
    }
   }
  }
 ],
 "metadata": {
  "kernelspec": {
   "name": "pycharm-b9291cb7",
   "language": "python",
   "display_name": "PyCharm (sensorik-lidar)"
  },
  "language_info": {
   "codemirror_mode": {
    "name": "ipython",
    "version": 2
   },
   "file_extension": ".py",
   "mimetype": "text/x-python",
   "name": "python",
   "nbconvert_exporter": "python",
   "pygments_lexer": "ipython2",
   "version": "2.7.6"
  }
 },
 "nbformat": 4,
 "nbformat_minor": 0
}