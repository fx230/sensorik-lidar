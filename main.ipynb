{
 "cells": [
  {
   "cell_type": "markdown",
   "source": [
    "## Mainfunction\n",
    "#include headerfile"
   ],
   "metadata": {
    "collapsed": false,
    "pycharm": {
     "name": "#%% md\n"
    }
   }
  },
  {
   "cell_type": "code",
   "execution_count": 1,
   "outputs": [],
   "source": [
    "\n",
    "\n",
    "def main():\n",
    "      # Introduction:\n",
    "      print(\"LIDAR - Light Image Detection And Ranging\\n\\n\"\n",
    "            \"Teammates:\\n\"\n",
    "            \"- Tobias Bayer (Teamleader)\\n\"\n",
    "            \"- Moritz Schirmer\\n\"\n",
    "            \"- Felix Rasch\\n\"\n",
    "            \"- Bruno Hermenau\\n\"\n",
    "            \"- Oliver Schmidt\\n\"\n",
    "            \"- Markus Pauly\")\n"
   ],
   "metadata": {
    "collapsed": false,
    "pycharm": {
     "name": "#%%d\n"
    }
   }
  },
  {
   "cell_type": "code",
   "source": [
    "import numpy as np\n",
    "from matplotlib import pyplot as plt\n",
    "%matplotlib inline\n",
    "%matplotlib\n",
    "\n",
    "def parameters():\n",
    "\n",
    "      digital_lambda = 905*10^-9\n",
    "\n",
    "      digital_frequenz = digital_lambda/2.99792458*10^8 #Frequenz = Lambda/Lichtgeschwdt ; typische Werte\n",
    "      digital_amplitude = 1\n",
    "      digital_pulsdauer = digital_lambda/2\n",
    "\n",
    "      digital_signal = {\"Frequenz\": digital_frequenz, \"Amplitude\": digital_amplitude, \"Pulsdauer\": digital_pulsdauer}\n",
    "\n",
    "\n",
    "\n",
    "      analog_amplitude = 2 # typischer Wert 2 Volt\n",
    "      analog_lambda = 905*10^-9\n",
    "      t = np.linspace(0, analog_lambda, 200)\n",
    "\n",
    "      analog_signal = {\n",
    "            \"Frequenz\": digital_signal[\"Frequenz\"], \"Pulsdauer\": digital_signal[\"Pulsdauer\"], \"Amplitude\": digital_signal[\"Amplitude\"]\n",
    "      }\n",
    "      sendesignal = analog_amplitude * np.sin(2*np.pi*analog_signal[\"Frequenz\"]*t)\n",
    "\n",
    "\n",
    "      N = 100 # sample count\n",
    "      P = 10  # period\n",
    "      D = 5   # width of pulse\n",
    "      sig = np.arange(N) % P < D\n",
    "      plt(sig)"
   ],
   "metadata": {
    "collapsed": false,
    "pycharm": {
     "name": "#%%\n"
    }
   },
   "execution_count": 2,
   "outputs": [
    {
     "name": "stdout",
     "output_type": "stream",
     "text": [
      "Using matplotlib backend: GTK3Agg\n"
     ]
    }
   ]
  },
  {
   "cell_type": "code",
   "execution_count": 3,
   "outputs": [],
   "source": [
    "def signalverarbeitung(distanz):\n",
    "\n",
    "      c = 2.99792458*10^8 # Lichtgeschwindigkeit\n",
    "      delta_t = (2*distanz)/c\n",
    "\n",
    "      Empfangssignal = analog_amplitude * np.sin(2*np.pi*digital_parameters[\"Frequenz\"]*t)\n",
    "\n",
    "\n"
   ],
   "metadata": {
    "collapsed": false,
    "pycharm": {
     "name": "#%%\n"
    }
   }
  }
 ],
 "metadata": {
  "kernelspec": {
   "name": "python3",
   "language": "python",
   "display_name": "Python 3"
  },
  "language_info": {
   "codemirror_mode": {
    "name": "ipython",
    "version": 2
   },
   "file_extension": ".py",
   "mimetype": "text/x-python",
   "name": "python",
   "nbconvert_exporter": "python",
   "pygments_lexer": "ipython2",
   "version": "2.7.6"
  }
 },
 "nbformat": 4,
 "nbformat_minor": 0
}