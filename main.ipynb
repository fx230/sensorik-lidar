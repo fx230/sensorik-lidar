{
 "cells": [
  {
   "cell_type": "markdown",
   "source": [
    "## Mainfunction\n",
    "#include headerfile"
   ],
   "metadata": {
    "collapsed": false,
    "pycharm": {
     "name": "#%% md\n"
    }
   }
  },
  {
   "cell_type": "code",
   "execution_count": 2,
   "outputs": [
    {
     "name": "stderr",
     "output_type": "stream",
     "text": [
      "<>:14: SyntaxWarning: \"is\" with a literal. Did you mean \"==\"?\n",
      "<>:14: SyntaxWarning: \"is\" with a literal. Did you mean \"==\"?\n",
      "<ipython-input-2-090d3a26c429>:14: SyntaxWarning: \"is\" with a literal. Did you mean \"==\"?\n",
      "  if __name__ is \"__main__\":\n"
     ]
    },
    {
     "ename": "NameError",
     "evalue": "name 'Sensorik' is not defined",
     "output_type": "error",
     "traceback": [
      "\u001B[1;31m---------------------------------------------------------------------------\u001B[0m",
      "\u001B[1;31mNameError\u001B[0m                                 Traceback (most recent call last)",
      "\u001B[1;32m<ipython-input-2-090d3a26c429>\u001B[0m in \u001B[0;36m<module>\u001B[1;34m\u001B[0m\n\u001B[0;32m     13\u001B[0m \u001B[1;33m\u001B[0m\u001B[0m\n\u001B[0;32m     14\u001B[0m \u001B[1;32mif\u001B[0m \u001B[0m__name__\u001B[0m \u001B[1;32mis\u001B[0m \u001B[1;34m\"__main__\"\u001B[0m\u001B[1;33m:\u001B[0m\u001B[1;33m\u001B[0m\u001B[1;33m\u001B[0m\u001B[0m\n\u001B[1;32m---> 15\u001B[1;33m       \u001B[0mHelp\u001B[0m \u001B[1;33m=\u001B[0m \u001B[0mSensorik\u001B[0m\u001B[1;33m(\u001B[0m\u001B[1;33m)\u001B[0m\u001B[1;33m\u001B[0m\u001B[1;33m\u001B[0m\u001B[0m\n\u001B[0m\u001B[0;32m     16\u001B[0m       \u001B[0mHelp\u001B[0m\u001B[1;33m.\u001B[0m\u001B[0msetNoise\u001B[0m\u001B[1;33m(\u001B[0m\u001B[1;33m)\u001B[0m\u001B[1;33m\u001B[0m\u001B[1;33m\u001B[0m\u001B[0m\n\u001B[0;32m     17\u001B[0m \u001B[1;33m\u001B[0m\u001B[0m\n",
      "\u001B[1;31mNameError\u001B[0m: name 'Sensorik' is not defined"
     ]
    }
   ],
   "source": [
    "\n",
    "\n",
    "def main():\n",
    "      # Introduction:\n",
    "      print(\"LIDAR - Light Image Detection And Ranging\\n\\n\"\n",
    "            \"Teammates:\\n\"\n",
    "            \"- Tobias Bayer (Teamleader)\\n\"\n",
    "            \"- Moritz Schirmer\\n\"\n",
    "            \"- Felix Rasch\\n\"\n",
    "            \"- Bruno Hermenau\\n\"\n",
    "            \"- Oliver Schmidt\\n\"\n",
    "            \"- Markus Pauly\")\n",
    "\n",
    "if __name__ is \"__main__\":\n",
    "      Help = Sensorik()\n",
    "      Help.setNoise()"
   ],
   "metadata": {
    "collapsed": false,
    "pycharm": {
     "name": "#%%d\n"
    }
   }
  },
  {
   "cell_type": "code",
   "source": [
    "import numpy as np\n",
    "import matplotlib as plt\n",
    "\n",
    "\n",
    "def digital_parameters():\n",
    "\n",
    "      digital_lambda = 905*10^-9\n",
    "\n",
    "      digital_frequenz = digital_lambda/2.99792458*10^8 #Frequenz = Lambda/Lichtgeschwdt ; typische Werte\n",
    "      digital_amplitude = 1\n",
    "      digital_pulsdauer = digital_lambda/2\n",
    "\n",
    "      digital_signal = {\"Frequenz\": digital_frequenz, \"Amplitude\": digital_amplitude, \"Pulsdauer\": digital_pulsdauer}\n",
    "      return digital_signal"
   ],
   "metadata": {
    "collapsed": false,
    "pycharm": {
     "name": "#%%\n"
    }
   },
   "execution_count": 10,
   "outputs": []
  },
  {
   "cell_type": "code",
   "execution_count": 11,
   "outputs": [],
   "source": [
    "def analog_parameters():\n",
    "\n",
    "      analog_amplitude = 2 # typischer Wert 2 Volt\n",
    "      analog_lambda = 905*10^-9\n",
    "      t = np.linspace(0, analog_lambda, 200)\n",
    "\n",
    "      analog_signal = {\n",
    "            \"Frequenz\": digital_parameters[\"Frequenz\"], \"Pulsdauer\": digital_parameters[\"Pulsdauer\"], \"Amplitude\": digital_parameters[\"Amplitude\"]\n",
    "      }\n",
    "      Sendesignal = analog_amplitude * np.sin(2*np.pi*digital_parameters[\"Frequenz\"]*t)\n",
    "      return analog_signal, Sendesignal\n",
    "\n",
    "      plt.plot(t, Sendesignal)\n",
    "      plt.show()"
   ],
   "metadata": {
    "collapsed": false,
    "pycharm": {
     "name": "#%%\n"
    }
   }
  },
  {
   "cell_type": "code",
   "execution_count": 12,
   "outputs": [],
   "source": [
    "def signalverarbeitung(distanz):\n",
    "\n",
    "      c = 2.99792458*10^8 # Lichtgeschwindigkeit\n",
    "      delta_t = (2*distanz)/c\n",
    "\n",
    "\n",
    "\n",
    "\n"
   ],
   "metadata": {
    "collapsed": false,
    "pycharm": {
     "name": "#%%\n"
    }
   }
  }
 ],
 "metadata": {
  "kernelspec": {
   "name": "python3",
   "language": "python",
   "display_name": "Python 3"
  },
  "language_info": {
   "codemirror_mode": {
    "name": "ipython",
    "version": 2
   },
   "file_extension": ".py",
   "mimetype": "text/x-python",
   "name": "python",
   "nbconvert_exporter": "python",
   "pygments_lexer": "ipython2",
   "version": "2.7.6"
  }
 },
 "nbformat": 4,
 "nbformat_minor": 0
}