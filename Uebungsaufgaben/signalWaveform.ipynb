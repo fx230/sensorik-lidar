{
 "cells": [
  {
   "cell_type": "markdown",
   "metadata": {},
   "source": [
    "# Lecture Sensorik - Signal Waveforms\n",
    "*HS-Kempten FA204 WS 2018/2019 © R. Aue*"
   ]
  },
  {
   "cell_type": "markdown",
   "metadata": {},
   "source": [
    "## Excercises Sine Wave"
   ]
  },
  {
   "cell_type": "markdown",
   "metadata": {},
   "source": [
    "*Sine Wave*:  \n",
    "$x(t) = x_0 \\cdot sin(2 \\cdot \\pi \\cdot f \\cdot t + \\phi_0) $"
   ]
  },
  {
   "cell_type": "markdown",
   "metadata": {},
   "source": [
    "**1. sine1.py (t[rad])** "
   ]
  },
  {
   "cell_type": "code",
   "execution_count": null,
   "metadata": {},
   "outputs": [],
   "source": [
    "%matplotlib inline\n",
    "# sine1.py ; t [rad]:\n",
    "import numpy as np\n",
    "import matplotlib.pyplot as plt\n",
    "\n",
    "# consts:\n",
    "x0 = 2.0   # max. amplitude\n",
    "te = 2 * np.pi # time end [rad]\n",
    "tstep = 0.1    # time step size [rad]\n",
    "\n",
    "\n",
    "# Get t values of the sine wave\n",
    "t = np.linspace(0, te, int(te/tstep))\n",
    "\n",
    " \n",
    "# Amplitude of the sine wave is sine of a variable like time\n",
    "x = x0 * np.sin(t)\n",
    " \n",
    "\n",
    "# Plot a sine wave:\n",
    "plt.plot(t, x)\n",
    "plt.title('Sine wave - sine1.py')\n",
    "plt.xlabel('t')\n",
    "plt.ylabel('x(t)')\n",
    "plt.grid(True, which='both')\n",
    "plt.axhline(y=0, color='k')\n",
    "plt.show()"
   ]
  },
  {
   "cell_type": "markdown",
   "metadata": {},
   "source": [
    "**Exercise: change signal and plot parameters**"
   ]
  },
  {
   "cell_type": "markdown",
   "metadata": {},
   "source": [
    "**2. sine2.py (t[s])**"
   ]
  },
  {
   "cell_type": "code",
   "execution_count": null,
   "metadata": {},
   "outputs": [],
   "source": [
    "# sine2.py ; t [s]\n",
    "import numpy as np\n",
    "import matplotlib.pyplot as plt\n",
    "\n",
    "# consts:\n",
    "x0 = 2.0\n",
    "f = 5.0\n",
    "te = 1.0 # end of time intervall\n",
    "nt = 200 # number of time increments\n",
    "\n",
    "\n",
    "# Get t values of the sine wave\n",
    "# t = np.linspace(0, te, nt)\n",
    "t = np.arange(0, te, float(te/nt))\n",
    "\n",
    " \n",
    "# Amplitude of the sine wave is sine of a variable like time\n",
    "x = x0 * np.sin(2*np.pi*f*t)\n",
    " \n",
    "\n",
    "# Plot a sine wave using time and amplitude obtained for the sine wave\n",
    "plt.plot(t, x)\n",
    "plt.title('Sine wave - sine2.py')\n",
    "plt.xlabel('t[s]')\n",
    "plt.ylabel('x(t)')\n",
    "plt.grid(True, which='both')\n",
    "plt.axhline(y=0, color='k')\n",
    "plt.show()"
   ]
  },
  {
   "cell_type": "markdown",
   "metadata": {},
   "source": [
    "**3. sawtooth.py**"
   ]
  },
  {
   "cell_type": "code",
   "execution_count": null,
   "metadata": {},
   "outputs": [],
   "source": [
    "# sawtooth.py:\n",
    "from scipy import signal\n",
    "import numpy as np\n",
    "import matplotlib.pyplot as plt\n",
    "\n",
    "\n",
    "t = np.linspace(0, 1, 500)\n",
    "plt.plot(t, signal.sawtooth(2 * np.pi * 5 * t))\n",
    "\n",
    "# plot signal:\n",
    "plt.title('sawtooth - sawtooth.py')\n",
    "plt.xlabel('t[s]')\n",
    "plt.ylabel('x(t)')\n",
    "plt.grid(True, which='both')\n",
    "plt.axhline(y=0, color='k')\n",
    "plt.show()"
   ]
  },
  {
   "cell_type": "markdown",
   "metadata": {},
   "source": [
    "**Exercise: change signal paramters**"
   ]
  },
  {
   "cell_type": "markdown",
   "metadata": {},
   "source": [
    "**4. square.py:**"
   ]
  },
  {
   "cell_type": "code",
   "execution_count": null,
   "metadata": {},
   "outputs": [],
   "source": [
    "# square.py:\n",
    "from scipy import signal\n",
    "import numpy as np\n",
    "import matplotlib.pyplot as plt\n",
    "\n",
    "# consts:\n",
    "tstart = 0   # start time\n",
    "tend = 1     # end time\n",
    "npoints = 500 # number of samples\n",
    "\n",
    "t = np.linspace(tstart, tend, npoints, endpoint=False)\n",
    "\n",
    "# plot signal:\n",
    "plt.plot(t, signal.square(2 * np.pi * 5 * t))\n",
    "plt.ylim(-2, 2)\n",
    "plt.title('square - square.py')\n",
    "plt.xlabel('t[s]')\n",
    "plt.ylabel('x(t)')\n",
    "plt.grid(True, which='both')\n",
    "plt.axhline(y=0, color='k')\n",
    "plt.show()"
   ]
  },
  {
   "cell_type": "markdown",
   "metadata": {},
   "source": [
    "**4.1 square2.py (superposition of sine signals):**"
   ]
  },
  {
   "cell_type": "code",
   "execution_count": null,
   "metadata": {},
   "outputs": [],
   "source": [
    "# square2.py ;\n",
    "import numpy as np\n",
    "import matplotlib.pyplot as plt\n",
    "\n",
    "# consts:\n",
    "x0 = 2.0\n",
    "f = 3.0\n",
    "te = 1.0 # end of time intervall\n",
    "nt = 200 # number of time increments\n",
    "n = 3    # number of harmonics to be summarized\n",
    "\n",
    "# Get t values of the sine wave\n",
    "# t = np.linspace(0, te, nt)\n",
    "t = np.arange(0, te, float(te/nt))\n",
    "\n",
    " \n",
    "# Amplitude of the sine wave is sine of a variable like time\n",
    "y=0\n",
    "i=1\n",
    "k=1\n",
    "while i <= n: \n",
    " x = x0/k * np.sin(2*np.pi*f*t*k)\n",
    " y += x\n",
    " k +=2\n",
    " i+=1\n",
    " \n",
    "\n",
    "# Plot twave using time and amplitude\n",
    "plt.plot(t, y)\n",
    "plt.title('Square wave - square2.py')\n",
    "plt.xlabel('t[s]')\n",
    "plt.ylabel('x(t)')\n",
    "plt.grid(True, which='both')\n",
    "plt.axhline(y=0, color='k')\n",
    "plt.rcParams[\"figure.figsize\"] = [20,8]\n",
    "plt.show()"
   ]
  },
  {
   "cell_type": "markdown",
   "metadata": {},
   "source": [
    "**Exercise: change number of harmonics in order to get closer to desired square wave;**"
   ]
  },
  {
   "cell_type": "markdown",
   "metadata": {},
   "source": [
    "**3. noise.py**  \n",
    "$x(t) = x_0  \\cdot sin(2 \\cdot \\pi \\cdot f \\cdot t + \\phi_0) + x_{noise} $"
   ]
  },
  {
   "cell_type": "code",
   "execution_count": null,
   "metadata": {},
   "outputs": [],
   "source": [
    "# noise.py\n",
    "import numpy as np\n",
    "import matplotlib.pyplot as plt\n",
    "\n",
    "# consts:\n",
    "x0 = 1.0  # max. signal amplitude\n",
    "f = 5.0   # signal frequency\n",
    "te = 1.0 # end of time intervall\n",
    "nt = 200 # number of time increments\n",
    "noisepeak = 0.5 # noise max level  \n",
    "\n",
    "\n",
    "# Get t values of the sine wave\n",
    "# t = np.linspace(0, te, nt)\n",
    "t = np.arange(0, te, float(te/nt))\n",
    "\n",
    "# creating noise:\n",
    "noise = np.random.uniform(-noisepeak , noisepeak ,nt)\n",
    "\n",
    " \n",
    "# Amplitude of the sine wave is sine of a variable like time\n",
    "x = x0 * np.sin(2*np.pi*f*t) + noise\n",
    "\n",
    "\n",
    "# Plot a sine wave using time and amplitude obtained for the sine wave\n",
    "plt.plot(t, x)\n",
    "plt.title('Noise - noise.py')\n",
    "plt.xlabel('t[s]')\n",
    "plt.ylabel('x(t)')\n",
    "plt.grid(True, which='both')\n",
    "plt.axhline(y=0, color='k')\n",
    "plt.show()"
   ]
  },
  {
   "cell_type": "markdown",
   "metadata": {},
   "source": [
    "**Exercise: add different levels of noise**"
   ]
  },
  {
   "cell_type": "markdown",
   "metadata": {},
   "source": [
    "**4. snr.py** *(Signal to Noise Ratio)*  \n",
    "$SNR = 10 \\cdot log (\\frac{P_{signal}}{P_{noise}}) = 10 \\cdot log (\\frac{u^2_{eff,signal}}{u^2_{eff,noise}}) = 20 \\cdot log (\\frac{u_{eff,signal}}{u_{eff,noise}}) $"
   ]
  },
  {
   "cell_type": "code",
   "execution_count": null,
   "metadata": {},
   "outputs": [],
   "source": [
    "# snr.py:\n",
    "# %matplotlib inline \n",
    "import numpy as np\n",
    "from scipy import integrate\n",
    "import matplotlib.pyplot as plt\n",
    "import math as m\n",
    "\n",
    "# consts:\n",
    "x0 = 1  # max. signal amplitude\n",
    "f = 2   # signal frequency\n",
    "te = 4 # end of time intervall\n",
    "nt = 200 # number of time increments\n",
    "noisepeak = 0.1 # noise max level  \n",
    "\n",
    "\n",
    "# Get t values of the sine wave\n",
    "# t = np.linspace(0, te, nt)\n",
    "t = np.arange(0, te, float(te/nt))\n",
    "\n",
    "# sine wave:\n",
    "x = x0 * np.sin(2*np.pi*f*t)\n",
    "\n",
    "# noise:\n",
    "noise = np.random.uniform(-noisepeak , noisepeak ,nt)\n",
    "\n",
    "# snr:\n",
    "s_eff = m.sqrt((integrate.trapz(x**2, t, 0.01))/te)\n",
    "n_eff = m.sqrt((integrate.trapz(noise**2, t, 0.01))/te)\n",
    "print('snr= ' + str(20*m.log10(s_eff/n_eff)) + ' dB.')\n",
    "\n",
    "# Plot a sine wave using time and amplitude obtained for the sine wave\n",
    "plt.plot(t, x+noise)\n",
    "plt.title('Signal to Noise - snr.py')\n",
    "plt.xlabel('t[s]')\n",
    "plt.ylabel('x(t)')\n",
    "plt.grid(True, which='both')\n",
    "plt.axhline(y=0, color='k')\n",
    "plt.show()"
   ]
  },
  {
   "cell_type": "markdown",
   "metadata": {},
   "source": [
    "**Exercise: change signal and noise aplitude; verify rms calculation;**"
   ]
  }
 ],
 "metadata": {
  "kernelspec": {
   "display_name": "Python 3",
   "language": "python",
   "name": "python3"
  },
  "language_info": {
   "codemirror_mode": {
    "name": "ipython",
    "version": 3
   },
   "file_extension": ".py",
   "mimetype": "text/x-python",
   "name": "python",
   "nbconvert_exporter": "python",
   "pygments_lexer": "ipython3",
   "version": "3.7.0"
  }
 },
 "nbformat": 4,
 "nbformat_minor": 2
}
