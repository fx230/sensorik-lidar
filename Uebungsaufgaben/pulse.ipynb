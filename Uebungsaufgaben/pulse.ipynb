{
 "cells": [
  {
   "cell_type": "markdown",
   "metadata": {},
   "source": [
    "# Lecture Sensorik - Pulse Radar\n",
    "*HS-Kempten FA204 WS 2018/2019 © R. Aue*"
   ]
  },
  {
   "cell_type": "markdown",
   "metadata": {},
   "source": [
    "**ToC:**\n",
    "1. Determine puls frequency $f_P$ wrt. vertical FoV $\\Theta_{3dB}$ (crossing target)   \n",
    "2. Matched Filter => moved to filter notebook;"
   ]
  },
  {
   "cell_type": "markdown",
   "metadata": {},
   "source": [
    "# 1. Minimum Pulse Frequency $f_{Pmin}$ wrt. horizontol FoV $\\Theta_{3dB}$ (Crossing Target)\n",
    "$ \\displaystyle f_P \\gt f_{Pmin}(\\Theta_{3dB}) = \\frac{n_{min} \\cdot v}{2 \\cdot R \\cdot tan (\\frac{\\Theta_{3dB}}{2})}$"
   ]
  },
  {
   "cell_type": "code",
   "execution_count": null,
   "metadata": {},
   "outputs": [],
   "source": [
    "import numpy as np\n",
    "import scipy.constants as spc  # e.g. speed of light\n",
    "import matplotlib.pyplot as plt\n",
    "import matplotlib.cm as cm\n",
    "%matplotlib inline\n",
    "%pylab inline --no-import-all\n",
    "\n",
    "# consts:\n",
    "n_min = 2 #  min. nuber of measurements\n",
    "n_max = 10 # max. number of measurements\n",
    "n_ = np.arange(n_min, n_max)  # number of range measurements\n",
    "v = 55  # crossing target velocity [m/s]\n",
    "r = 50 # longitudinal target distance [m]\n",
    "theta_3db_min = 5 # min. horizontal FoV [°]\n",
    "theta_3db_max = 20 # max. horizontal FoV [°]\n",
    "theta_3db_ = np.arange(theta_3db_min*np.pi/180.0 , theta_3db_max*np.pi/180.0, np.pi/180.0 )\n",
    "\n",
    "colors = cm.rainbow(np.linspace(0, 1, len(theta_3db_)))\n",
    "plt.figure(figsize=(14,7))\n",
    "\n",
    "\n",
    "for n, c in zip(n_ , colors):\n",
    "    fp = (n * v) / (2 * r * np.tan(theta_3db_ /2))\n",
    "    plt.plot(theta_3db_*180.0/np.pi, fp, color=c, label='n-min = ' + str(n))\n",
    "    \n",
    "# plot:\n",
    "plt.title('Minimum Pulse Frequency wrt. Horizontal FoV')\n",
    "plt.grid(True, which='both')\n",
    "plt.xlabel('Horizontal FoV [°]')\n",
    "plt.ylabel('Pulse Frequency [Hz]')\n",
    "plt.legend()\n",
    "plt.show()"
   ]
  },
  {
   "cell_type": "markdown",
   "metadata": {},
   "source": [
    "## 2. Matched Filter => moved to filter notebook"
   ]
  }
 ],
 "metadata": {
  "kernelspec": {
   "display_name": "Python 3",
   "language": "python",
   "name": "python3"
  },
  "language_info": {
   "codemirror_mode": {
    "name": "ipython",
    "version": 3
   },
   "file_extension": ".py",
   "mimetype": "text/x-python",
   "name": "python",
   "nbconvert_exporter": "python",
   "pygments_lexer": "ipython3",
   "version": "3.7.1"
  }
 },
 "nbformat": 4,
 "nbformat_minor": 2
}
