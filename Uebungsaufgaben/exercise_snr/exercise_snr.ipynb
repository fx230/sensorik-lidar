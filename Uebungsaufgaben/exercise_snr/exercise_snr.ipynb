{
 "cells": [
  {
   "cell_type": "markdown",
   "metadata": {},
   "source": [
    "# Lecture Sensorik - Exercise SNR\n",
    "*HS-Kempten FA204 WS 2018/2019 © R. Aue*"
   ]
  },
  {
   "cell_type": "markdown",
   "metadata": {},
   "source": [
    "**1) Calculation of SNR:**  \n",
    "given:  \n",
    " - circuit as shown below; $R = 50 \\Omega$; currents s. below\n",
    " - $I_{signal}$: sine, $f = 15 Hz, x_0 = 5 mA, \\phi_0 = 30°$  \n",
    " - $I_{noise}$: sine, $f = 120 Hz, x_0 = 130 \\mu A, \\phi_0 = 60°$\n",
    "\n",
    "to be calculated:  \n",
    "- SNR [dB]"
   ]
  },
  {
   "cell_type": "markdown",
   "metadata": {},
   "source": [
    "<img src='exercise_snr/exercise_snr_IRcircuit.PNG' height=\"242\" width=\"242\" align=\"left\">\n",
    "*Sine Wave Common Formula*:  \n",
    "$x(t) = x_0 \\cdot sin(2 \\cdot \\pi \\cdot f \\cdot t + \\phi_0) $"
   ]
  },
  {
   "cell_type": "code",
   "execution_count": 5,
   "metadata": {},
   "outputs": [],
   "source": [
    "# ..."
   ]
  }
 ],
 "metadata": {
  "kernelspec": {
   "display_name": "Python 3",
   "language": "python",
   "name": "python3"
  },
  "language_info": {
   "codemirror_mode": {
    "name": "ipython",
    "version": 3
   },
   "file_extension": ".py",
   "mimetype": "text/x-python",
   "name": "python",
   "nbconvert_exporter": "python",
   "pygments_lexer": "ipython3",
   "version": "3.7.0"
  }
 },
 "nbformat": 4,
 "nbformat_minor": 2
}