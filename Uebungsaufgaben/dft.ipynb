{
 "cells": [
  {
   "cell_type": "markdown",
   "metadata": {},
   "source": [
    "# Lecture Sensorik - Discrete Fourier Transformation (DFT)\n",
    "*HS-Kempten FA204 WS 2018/2019 © R. Aue*"
   ]
  },
  {
   "cell_type": "markdown",
   "metadata": {},
   "source": [
    "## Exercise ...\n",
    "*Example: *.py*"
   ]
  },
  {
   "cell_type": "code",
   "execution_count": null,
   "metadata": {},
   "outputs": [],
   "source": [
    "import numpy as np\n",
    "import matplotlib.pyplot as plt\n",
    "%pylab inline --no-import-all"
   ]
  },
  {
   "cell_type": "markdown",
   "metadata": {},
   "source": [
    "### 1) Generate synthetic sine signal:"
   ]
  },
  {
   "cell_type": "code",
   "execution_count": null,
   "metadata": {},
   "outputs": [],
   "source": [
    "t = np.linspace(start=0, stop=4, num=20000)  # t[s]\n",
    "# print(t)\n",
    "f = 2 # Frequency in Hz\n",
    "A = 100.0 # Amplitude in Unit\n",
    "s = A * np.sin(2*np.pi*f*t) # Signal\n",
    "\n",
    "# plot signal:\n",
    "plt.plot(t,s)\n",
    "plt.grid(True, which='both')\n",
    "plt.xlabel('Time ($s$)')\n",
    "plt.ylabel('Amplitude ($Unit$)')\n",
    "plt.show()"
   ]
  },
  {
   "cell_type": "markdown",
   "metadata": {},
   "source": [
    "### Discrete Fourier Transformation:"
   ]
  },
  {
   "cell_type": "code",
   "execution_count": null,
   "metadata": {},
   "outputs": [],
   "source": [
    "Y = np.fft.fft(s)\n",
    "N = int(len(Y)/2)\n",
    "# print (Y[0:N])\n",
    "# print(N)\n",
    "# plot spectrum:\n",
    "plt.grid(True, which='both')\n",
    "plt.plot(Y)\n",
    "plt.show()"
   ]
  },
  {
   "cell_type": "markdown",
   "metadata": {},
   "source": [
    "### Plot absolute value (dt. Betrag):"
   ]
  },
  {
   "cell_type": "code",
   "execution_count": null,
   "metadata": {},
   "outputs": [],
   "source": [
    "plt.grid(True, which='both')\n",
    "plt.plot(np.abs(Y[:int(N)]))\n",
    "plt.show()"
   ]
  },
  {
   "cell_type": "markdown",
   "metadata": {},
   "source": [
    "### x-axis:"
   ]
  },
  {
   "cell_type": "code",
   "execution_count": null,
   "metadata": {},
   "outputs": [],
   "source": [
    "dt= t[1] - t[0]\n",
    "fs = 1.0/dt # sampling frequency\n",
    "print('dt=%.5fs (Sample Time Increment)' % dt)\n",
    "print('fs=%.2fHz (Sample Frequency)' % fs)"
   ]
  },
  {
   "cell_type": "markdown",
   "metadata": {},
   "source": [
    "Create a x-axis vector, which starts from 0.0 and is filled with  <i>N</i>  (i.e. length of half of the FFT signal) values and going all the way to the maximum signal frequency, which can be reconstructed. This frequency is half of the maximum sampling frequency <i>fs</i> and is called the <i><b>Nyquist-Frequency</b></i>."
   ]
  },
  {
   "cell_type": "code",
   "execution_count": null,
   "metadata": {
    "scrolled": true
   },
   "outputs": [],
   "source": [
    "X = np.linspace(0, fs/2, N)\n",
    "\n",
    "# plot w/ x-asis defined above:\n",
    "plt.figure(figsize=(12,4))\n",
    "plt.subplot(121)\n",
    "plt.plot(X, np.abs(Y[:N]))\n",
    "plt.grid(True, which='both')\n",
    "plt.xlabel('Frequency ($Hz$)')\n",
    "\n",
    "# zoom in plot:\n",
    "plt.subplot(122)\n",
    "plt.bar(X[:20], np.abs(Y[:20]), width=0.05,)\n",
    "plt.grid(True, which='both')\n",
    "plt.xlabel('Frequency ($Hz$)')\n",
    "\n",
    "plt.tight_layout()\n",
    "plt.show()"
   ]
  },
  {
   "cell_type": "markdown",
   "metadata": {},
   "source": [
    "### y-Axis: The Amplitude of the FFT Signal"
   ]
  },
  {
   "cell_type": "markdown",
   "metadata": {},
   "source": [
    "Because the power of the signal in time and frequency domain have to be equal, and we just used the left half of the signal (i.e. the first <i>N</i> FFT values), we need to multiply the amplitude with the factor of <b>2</b>.  \n",
    "\n",
    "By looking at the definition of the Discrete Fourier Transform:\n",
    "\n",
    "$Y[k]=\\frac{1}{N} \\underbrace{\\sum_{N} x(nT)\\cdot e^{-i 2 \\pi \\frac{k}{N}n}}_{DFT}$  \n",
    "\n",
    "In most implementations, the output <i>Y</i> of the FFT is normalized with the number of samples. We have to divide by <i>N</i> to get the real physical value.\n",
    "\n",
    "$\\Rightarrow$ The correction factor is $\\frac{2}{N}\\$."
   ]
  },
  {
   "cell_type": "code",
   "execution_count": null,
   "metadata": {},
   "outputs": [],
   "source": [
    "plt.plot(X, 2.0*np.abs(Y[:N])/N)\n",
    "plt.grid(True, which='both')\n",
    "plt.xlabel('Frequency ($Hz$)')\n",
    "plt.ylabel('Amplitude ($Unit$)')\n",
    "plt.show()"
   ]
  },
  {
   "cell_type": "markdown",
   "metadata": {},
   "source": [
    "#### Leakage Effect\n",
    "Wrong amplitude of spectrum because of Leakage Effect (i.e. amplitudes in time and frequency domain differ)"
   ]
  },
  {
   "cell_type": "markdown",
   "metadata": {},
   "source": [
    "Signal do not end at amplitude zero, where it started (i.e. length is no multiple of periode duration). Adding these signals up:"
   ]
  },
  {
   "cell_type": "code",
   "execution_count": null,
   "metadata": {},
   "outputs": [],
   "source": [
    "t = np.linspace(start=0, stop=3.2, num=20000)  # t[s]\n",
    "# print(t)\n",
    "f = 2 # Frequency in Hz\n",
    "A = 100.0 # Amplitude in Unit\n",
    "sl = A * np.sin(2*np.pi*f*t) # Signal"
   ]
  },
  {
   "cell_type": "markdown",
   "metadata": {},
   "source": [
    "##### FFT:"
   ]
  },
  {
   "cell_type": "code",
   "execution_count": null,
   "metadata": {},
   "outputs": [],
   "source": [
    "Yl = np.fft.fft(sl)\n",
    "Nl = int(len(Yl)/2)\n",
    "dt= t[1] - t[0]\n",
    "fsl = 1.0/dt # sampling frequency\n",
    "Xl = np.linspace(0, fsl/2, Nl)\n",
    "Yl = Yl * 2 / Nl\n",
    "\n",
    "# plot w/ x-asis defined above:\n",
    "plt.figure(figsize=(12,4))\n",
    "plt.subplot(131)\n",
    "plt.title('Time Domain')\n",
    "plt.plot(t,sl)\n",
    "plt.grid(True, which='both')\n",
    "plt.xlabel('Time ($s$)')\n",
    "plt.ylabel('Amplitude ($Unit$)')\n",
    "\n",
    "plt.subplot(132)\n",
    "plt.title('Frequency Domain - total')\n",
    "plt.plot(Xl, np.abs(Yl[:Nl]))\n",
    "plt.grid(True, which='both')\n",
    "plt.xlabel('Frequency ($Hz$)')\n",
    "\n",
    "# zoom in plot:\n",
    "plt.subplot(133)\n",
    "plt.title('Frequenc Domain - zoomed in')\n",
    "plt.bar(Xl[:20], np.abs(Yl[:20]), width=0.04,)\n",
    "plt.grid(True, which='both')\n",
    "plt.xlabel('Frequency ($Hz$)')\n",
    "\n",
    "plt.tight_layout()\n",
    "plt.show()"
   ]
  },
  {
   "cell_type": "markdown",
   "metadata": {},
   "source": [
    "Fourier Transform is intended to be applied only for periodic signals.  \n",
    "$\\Rightarrow$ The signal has to be strictly periodic, which introduces the so called <b>windowing</b> to eliminate the leakage effect.  \n",
    "\n",
    "Window functions (extract):  \n",
    "- Hamming  \n",
    "- Hanning  \n",
    "- Blackman  \n",
    "- …"
   ]
  },
  {
   "cell_type": "code",
   "execution_count": null,
   "metadata": {},
   "outputs": [],
   "source": [
    "hann = np.hanning(len(sl))\n",
    "hamm = np.hamming(len(sl))\n",
    "black= np.blackman(len(sl))\n",
    "\n",
    "plt.figure(figsize=(8,3))\n",
    "plt.subplot(131)\n",
    "plt.plot(hann)\n",
    "plt.grid(True, which='both')\n",
    "plt.title('Hanning')\n",
    "plt.subplot(132)\n",
    "plt.plot(hamm)\n",
    "plt.grid(True, which='both')\n",
    "plt.title('Hamming')\n",
    "plt.subplot(133)\n",
    "plt.plot(black)\n",
    "plt.grid(True, which='both')\n",
    "plt.title('Blackman')\n",
    "plt.tight_layout()\n",
    "plt.show()"
   ]
  },
  {
   "cell_type": "markdown",
   "metadata": {},
   "source": [
    "Apply Hanning Window:"
   ]
  },
  {
   "cell_type": "code",
   "execution_count": null,
   "metadata": {},
   "outputs": [],
   "source": [
    "# plot time signal:\n",
    "plt.figure(figsize=(15,6))\n",
    "plt.subplot(131)\n",
    "plt.plot(t,hann*sl)\n",
    "plt.xlabel('Time ($s$)')\n",
    "plt.ylabel('Amplitude ($Unit$)')\n",
    "plt.title('Time Domain - Hanning Window applied')\n",
    "plt.grid(True, which='both')\n",
    "\n",
    "Yhann = np.fft.fft(hann*sl) * 2 / Nl\n",
    "\n",
    "# plot spectra:\n",
    "plt.subplot(132)\n",
    "plt.plot(X, np.abs(Yhann[:N]))\n",
    "plt.title('Frequency Domain')\n",
    "plt.xlabel('Frequency ($Hz$)')\n",
    "plt.ylabel('Amplitude ($Unit$)')\n",
    "plt.grid(True, which='both')\n",
    "\n",
    "# zoom in plot:\n",
    "plt.subplot(133)\n",
    "plt.title('Frequenc Domain - zoomed in')\n",
    "plt.bar(Xl[:20], np.abs(Yhann[:20]), width=0.04,)\n",
    "plt.grid(True, which='both')\n",
    "plt.xlabel('Frequency ($Hz$)')\n",
    "\n",
    "plt.tight_layout()\n",
    "plt.show()"
   ]
  },
  {
   "cell_type": "markdown",
   "metadata": {},
   "source": [
    "#### Inverse FFT"
   ]
  },
  {
   "cell_type": "code",
   "execution_count": null,
   "metadata": {},
   "outputs": [],
   "source": [
    "x = np.fft.ifft(Y)\n",
    "\n",
    "# plot time domain:\n",
    "plt.plot(t,x)\n",
    "plt.title('Time Domain Signal from iFFT')\n",
    "plt.grid(True, which='both')\n",
    "plt.xlabel('Time ($s$)')\n",
    "plt.ylabel('Amplitude ($Unit$)')\n",
    "plt.show()"
   ]
  },
  {
   "cell_type": "markdown",
   "metadata": {},
   "source": [
    "## Further Exercises:\n",
    "1. use sawtooth time domain signal as input to FFT\n",
    "2. use square signal (based on superpositioned sines) as input to FFT"
   ]
  }
 ],
 "metadata": {
  "kernelspec": {
   "display_name": "Python 3",
   "language": "python",
   "name": "python3"
  },
  "language_info": {
   "codemirror_mode": {
    "name": "ipython",
    "version": 3
   },
   "file_extension": ".py",
   "mimetype": "text/x-python",
   "name": "python",
   "nbconvert_exporter": "python",
   "pygments_lexer": "ipython3",
   "version": "3.7.4"
  }
 },
 "nbformat": 4,
 "nbformat_minor": 2
}
