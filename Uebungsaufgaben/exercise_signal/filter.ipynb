{
 "cells": [
  {
   "cell_type": "markdown",
   "metadata": {},
   "source": [
    "# Lecture Sensorik - Filter\n",
    "*HS-Kempten FA204 WS 2018/2019 © R. Aue*"
   ]
  },
  {
   "cell_type": "markdown",
   "metadata": {},
   "source": [
    "**ToC:**\n",
    "\n",
    "1. <a href='#LowPassFilter'>Low Pass</a>  \n",
    "1.1 Time Domain     \n",
    "1.1.1 Convolution Example (s. scipy doc)  \n",
    "1.1.2 Convolution of 2 sine signals  \n",
    "1.2 Frequency Domain  \n",
    "1.2.1 Frequency Response  \n",
    "2. <a href='#HighPassFilter'>High Pass</a>  \n",
    "2.1 Time Domain  \n",
    "2.2 Frequency Domain  \n",
    "3. <a href='#BandPassBandStop'>Bandpass/stop</a>  \n",
    "4. <a href='#DigitalFilter'>Digital Filter</a>\n",
    "5. <a href='#MatchedFilter'>Matched Filter</a>\n",
    "\n",
    "**References:**  \n",
    "https://tomroelandts.com/articles/how-to-create-a-simple-low-pass-filter\n"
   ]
  },
  {
   "cell_type": "markdown",
   "metadata": {},
   "source": [
    "## <a id='LowPassFilter'>1. Low Pass Filter</a>"
   ]
  },
  {
   "cell_type": "markdown",
   "metadata": {},
   "source": [
    "### 1.1 Time Domain "
   ]
  },
  {
   "cell_type": "markdown",
   "metadata": {},
   "source": [
    "$x (t) = \\frac{\\alpha}{2 \\cdot \\pi}$"
   ]
  },
  {
   "cell_type": "markdown",
   "metadata": {},
   "source": [
    "#### 1.1.1 Example 1 (s. scipy docs)"
   ]
  },
  {
   "cell_type": "code",
   "execution_count": null,
   "metadata": {},
   "outputs": [],
   "source": [
    "from scipy import signal\n",
    "import matplotlib.pyplot as plt\n",
    "import numpy as np\n",
    "%matplotlib inline\n",
    "\n",
    "# set signals:\n",
    "sig = np.repeat([0., 1., 0.], 100)\n",
    "win = signal.hann(50)\n",
    "filtered = signal.convolve(sig, win, mode='same') / sum(win)\n",
    "\n",
    "# plot:\n",
    "fig, (ax_orig, ax_win, ax_filt) = plt.subplots(3, 1, sharex=True)\n",
    "ax_orig.plot(sig)\n",
    "ax_orig.set_title('Original pulse')\n",
    "ax_orig.margins(0, 0.1)\n",
    "ax_win.plot(win)\n",
    "ax_win.set_title('Filter impulse response')\n",
    "ax_win.margins(0, 0.1)\n",
    "ax_filt.plot(filtered)\n",
    "ax_filt.set_title('Filtered signal')\n",
    "ax_filt.margins(0, 0.1)\n",
    "fig.tight_layout()\n"
   ]
  },
  {
   "cell_type": "markdown",
   "metadata": {},
   "source": [
    "#### 1.1.2 Example 2  \n",
    "\n",
    "${ \\displaystyle y(t) = s(t) * h(t) }$\n",
    "- create input signal $s(t)$ as sum of two independent signals w/ different frequencies and amplitudes;\n",
    "- create impulse response $h(t)$ of ideal cutoff filter (i.e. using sinc-function)  \n",
    "- apply window to impulse response, because  sinc has infinite length; simple truncation would lead to massive ripple;  \n",
    "- convolute signal w/ filter impulse response;  "
   ]
  },
  {
   "cell_type": "code",
   "execution_count": null,
   "metadata": {},
   "outputs": [],
   "source": [
    "import numpy as np\n",
    "import scipy.constants as spc  # e.g. speed of light\n",
    "import matplotlib.pyplot as plt\n",
    "%matplotlib inline\n",
    "%pylab inline --no-import-all\n",
    "\n",
    "# consts:\n",
    "f1 = 1.0   # input signal 1 frequency [Hz]\n",
    "a1 = 2.0   # input signal 1 amplitude [unit]\n",
    "f2 = 3.0   # input signal 2 frequency [Hz]\n",
    "a2 = 1.0   # input signal 2 amplitude [unit]\n",
    "f_sample = 10.0   # sampling rate  [Hz] (i.e. >= 2*f)\n",
    "f_cutoff = 2.5   # cutoff frequency [Hz]: must be < than f_sample/2;\n",
    "bt = 0.2  # transition bandwidth [Hz]\n",
    "\n",
    "# number of samples resp. length of impulse response:\n",
    "N = int(np.ceil((4 / (bt/f_sample))))\n",
    "if not N % 2: N += 1  # make sure that N is odd (i.e. symmetric).\n",
    "\n",
    "n = np.arange(N)\n",
    "t = np.arange(0,N/f_sample,1/f_sample)\n",
    "\n",
    "# create input signal:\n",
    "s = a1 * np.sin(2 * np.pi * f1 * t) + a2 * np.sin(2 * np.pi * f2 * t)\n",
    "\n",
    "# Compute sinc filter.\n",
    "h = np.sinc(2 * (f_cutoff/f_sample) * (n - (N - 1) / 2.))\n",
    " \n",
    "# Compute Blackman window.\n",
    "w = np.blackman(N)\n",
    " \n",
    "# apply window.\n",
    "hw = h * w\n",
    " \n",
    "# Normalize to get unity gain; for low pass sum of all coeeficients must be 1;\n",
    "hw = hw / np.sum(hw)\n",
    "\n",
    "# apply the low pass by doing the convolution:\n",
    "y = np.convolve(s, hw)\n",
    "\n",
    "\n",
    "# Compute frequency response; only keep first half.\n",
    "H = np.abs(np.fft.fft(hw))[0 : N // 2 + 1]\n",
    "\n",
    "# plot signals:\n",
    "plt.figure(figsize=(14,7))\n",
    "plt.subplot(221)\n",
    "plt.title('Input Signals s1(t) + s2(t)')\n",
    "plt.plot(t,s, 'b', label='S1 + S2')\n",
    "plt.grid(True, which='both')\n",
    "plt.xlabel('Time [s]')\n",
    "plt.ylabel('Amplitude [Unit]')\n",
    "plt.legend()\n",
    "\n",
    "plt.subplot(222)\n",
    "plt.title('Windowed Low Pass Filter Impulse Response h(t)')\n",
    "plt.plot(hw)\n",
    "plt.grid(True, which='both')\n",
    "plt.xlabel('# [n]')\n",
    "plt.ylabel('Amplitude [Unit]')\n",
    "\n",
    "plt.subplot(223)\n",
    "plt.title('Low Pass Filtered Output Signal y(t)')\n",
    "plt.plot(t[0:N-1],y[int(len(y)/4):int(len(y)*3/4)])\n",
    "plt.grid(True, which='both')\n",
    "plt.xlabel('Time [s]')\n",
    "plt.ylabel('Amplitude [Unit]')\n",
    "\n",
    "plt.subplot(224)\n",
    "plt.title('Low Pass Frequency Response')\n",
    "plt.plot(np.linspace(0, 0.5, len(H))*f_sample, 20 * np.log10(H))\n",
    "plt.xlabel('Frequency [Hz]')\n",
    "plt.ylabel('Gain [dB]')\n",
    "plt.ylim([-120, 10])\n",
    "plt.grid()\n",
    "\n",
    "plt.tight_layout()\n",
    "plt.show()\n"
   ]
  },
  {
   "cell_type": "markdown",
   "metadata": {},
   "source": [
    "### 1.2 Frequency Domain"
   ]
  },
  {
   "cell_type": "markdown",
   "metadata": {},
   "source": [
    "### 1.2.1 Frequency Response"
   ]
  },
  {
   "cell_type": "code",
   "execution_count": null,
   "metadata": {},
   "outputs": [],
   "source": [
    "import numpy as np\n",
    "import matplotlib.pyplot as plt\n",
    " \n",
    "fc = 0.2  # Cutoff frequency as a fraction of the sampling rate (in (0, 0.5)).\n",
    "N = 50    # Number of coefficients.\n",
    "L = 2048  # Length of frequency response.\n",
    " \n",
    "# Compute sinc filter with Hamming window.\n",
    "n = np.arange(N)\n",
    "h = np.sinc(2 * fc * (n - (N - 1) / 2.)) * np.hamming(N)\n",
    "h /= np.sum(h)\n",
    " \n",
    "# Pad filter with zeros.\n",
    "h_padded = np.zeros(L)\n",
    "h_padded[0 : N] = h\n",
    " \n",
    "# Compute frequency response; only keep first half.\n",
    "H = np.abs(np.fft.fft(h_padded))[0 : L // 2 + 1]\n",
    " \n",
    "# Plot frequency response (in dB).\n",
    "plt.figure()\n",
    "plt.plot(np.linspace(0, 0.5, len(H)), 20 * np.log10(H))\n",
    "plt.xlabel('Low Pass Normalized frequency')\n",
    "plt.ylabel('Gain [dB]')\n",
    "plt.ylim([-100, 10])\n",
    "plt.grid()\n",
    "plt.show()\n"
   ]
  },
  {
   "cell_type": "markdown",
   "metadata": {},
   "source": [
    "## <a id='HighPassFilter'>2. High Pass Filter</a>"
   ]
  },
  {
   "cell_type": "markdown",
   "metadata": {},
   "source": [
    "### 2.1 Time Domain  \n",
    "\n",
    "Define impulse response of high pass:\n",
    "- create a low-pass filter (i.e. using sinc function)  \n",
    "- apply spectral inversion to low pass filter impulse response h[n]:  \n",
    "  -   Change the sign of each value in h[n]   \n",
    "  -   Add one to the value in the center."
   ]
  },
  {
   "cell_type": "code",
   "execution_count": null,
   "metadata": {},
   "outputs": [],
   "source": [
    "import numpy as np\n",
    "import scipy.constants as spc  # e.g. speed of light\n",
    "import matplotlib.pyplot as plt\n",
    "%matplotlib inline\n",
    "%pylab inline --no-import-all\n",
    "\n",
    "# consts:\n",
    "f1 = 1.0   # input signal 1 frequency [Hz]\n",
    "a1 = 2.0   # input signal 1 amplitude [unit]\n",
    "f2 = 4.0   # input signal 2 frequency [Hz]\n",
    "a2 = 1.0   # input signal 2 amplitude [unit]\n",
    "f_sample = 20.0   # sampling rate  [Hz] (i.e. >= 2*f)\n",
    "f_cutoff = 3   # cutoff frequency [Hz]: must be < than f_sample/2;\n",
    "bt = 0.2  # transition bandwidth [Hz]\n",
    "\n",
    "# number of samples resp. length of impulse response:\n",
    "N = int(np.ceil((4 / (bt/f_sample))))\n",
    "if not N % 2: N += 1  # make sure that N is odd (i.e. symmetric).\n",
    "\n",
    "    \n",
    "n = np.arange(N)\n",
    "t = np.arange(0,N/f_sample,1/f_sample)\n",
    "\n",
    "# create input signal:\n",
    "s = a1 * np.sin(2 * np.pi * f1 * t) + a2 * np.sin(2 * np.pi * f2 * t)\n",
    "\n",
    "# Compute sinc filter.\n",
    "h = np.sinc(2 * (f_cutoff/f_sample) * (n - (N - 1) / 2.))\n",
    " \n",
    "# Compute Blackman window.\n",
    "w = np.blackman(N)\n",
    " \n",
    "# apply window.\n",
    "hw = h * w\n",
    " \n",
    "# Normalize to get unity gain.\n",
    "hw = hw / np.sum(hw)\n",
    "\n",
    "# Create a high-pass filter from the low-pass filter through spectral inversion.\n",
    "hw = -hw\n",
    "hw[int((N - 1) / 2)] += 1\n",
    "\n",
    "\n",
    "# apply the low pass by doing the convolution:\n",
    "y = np.convolve(s, hw)\n",
    "\n",
    "\n",
    "# Compute frequency response; only keep first half.\n",
    "H = np.abs(np.fft.fft(hw))[0 : N // 2 + 1]\n",
    "\n",
    "# plot signals:\n",
    "plt.figure(figsize=(14,10))\n",
    "plt.subplot(411)\n",
    "plt.title('Input Signals s1(t) + s2(t)')\n",
    "plt.plot(t, s, 'b', label='S1 + S2')\n",
    "plt.grid(True, which='both')\n",
    "plt.xlabel('Time [s]')\n",
    "plt.ylabel('Amplitude [Unit]')\n",
    "plt.legend()\n",
    "\n",
    "plt.subplot(412)\n",
    "plt.title('Windowed High Pass Filter Impulse Response h(t)')\n",
    "plt.plot(hw)\n",
    "plt.grid(True, which='both')\n",
    "plt.xlabel('# [n]')\n",
    "plt.ylabel('Amplitude [Unit]')\n",
    "\n",
    "plt.subplot(413)\n",
    "plt.title('High Pass Filtered Output Signal y(t)')\n",
    "plt.plot(t[0:N-1],y[int(len(y)/4):int(len(y)*3/4)])\n",
    "plt.grid(True, which='both')\n",
    "plt.xlabel('Time [s]')\n",
    "plt.ylabel('Amplitude [Unit]')\n",
    "\n",
    "plt.subplot(414)\n",
    "plt.title('High Pass Frequency Response')\n",
    "plt.plot(np.linspace(0, 0.5, len(H))*f_sample, 20 * np.log10(H))\n",
    "plt.xlabel('Frequency [Hz]')\n",
    "plt.ylabel('Gain [dB]')\n",
    "plt.ylim([-120, 10])\n",
    "plt.grid()\n",
    "\n",
    "plt.tight_layout()\n",
    "plt.show()"
   ]
  },
  {
   "cell_type": "markdown",
   "metadata": {},
   "source": [
    "### 2.2 Frequency Domain"
   ]
  },
  {
   "cell_type": "markdown",
   "metadata": {},
   "source": [
    "#### 2.2.1 Frequency Response"
   ]
  },
  {
   "cell_type": "code",
   "execution_count": null,
   "metadata": {},
   "outputs": [],
   "source": [
    "import numpy as np\n",
    "import matplotlib.pyplot as plt\n",
    " \n",
    "fc = 0.2  # Cutoff frequency as a fraction of the sampling rate (in (0, 0.5)).\n",
    "N = 25    # Number of coefficients.\n",
    "L = 1024  # Length of frequency response.\n",
    " \n",
    "# Compute sinc filter with Hamming window.\n",
    "n = np.arange(N)\n",
    "h = np.sinc(2 * fc * (n - (N - 1) / 2.)) * np.hamming(N)\n",
    "h /= np.sum(h)\n",
    "\n",
    "# Create a high-pass filter from the low-pass filter through spectral inversion.\n",
    "h = -h\n",
    "h[int((N - 1) / 2)] += 1\n",
    " \n",
    "# Pad filter with zeros.\n",
    "h_padded = np.zeros(L)\n",
    "h_padded[0 : N] = h\n",
    " \n",
    "# Compute frequency response; only keep first half.\n",
    "H = np.abs(np.fft.fft(h_padded))[0 : L // 2 + 1]\n",
    " \n",
    "# Plot frequency response (in dB).\n",
    "plt.figure()\n",
    "plt.plot(np.linspace(0, 0.5, len(H)), 20 * np.log10(H))\n",
    "plt.xlabel('High Pass Normalized Frequency')\n",
    "plt.ylabel('Gain [dB]')\n",
    "plt.ylim([-100, 10])\n",
    "plt.grid()\n",
    "plt.show()"
   ]
  },
  {
   "cell_type": "markdown",
   "metadata": {},
   "source": [
    "## <a id='BandPassBandStop'>3. Band Pass / Band Stop</a>  \n",
    "- combination of Low- and High-Pass filters"
   ]
  },
  {
   "cell_type": "code",
   "execution_count": null,
   "metadata": {},
   "outputs": [],
   "source": [
    "# ..."
   ]
  },
  {
   "cell_type": "markdown",
   "metadata": {},
   "source": [
    "### Further Exercises:\n",
    "1. Define Bandpass filter based on given examples of low and high pass filters"
   ]
  },
  {
   "cell_type": "markdown",
   "metadata": {},
   "source": [
    "## <a id='DigitalFilter'>4. Digital Filter</a>"
   ]
  },
  {
   "cell_type": "markdown",
   "metadata": {},
   "source": [
    "### 4.1 FIR Low Pass - $H(z) = f(Impulse Response)$"
   ]
  },
  {
   "cell_type": "code",
   "execution_count": null,
   "metadata": {},
   "outputs": [],
   "source": [
    "import numpy as np\n",
    "import matplotlib.pyplot as plt\n",
    "import matplotlib.cm as cm\n",
    "%matplotlib inline\n",
    " \n",
    "# consts:\n",
    "fc = 0.2                # Cutoff frequency as a fraction of the sampling rate (in (0, 0.5)).\n",
    "N = [5,10,20,50,125]    # Number of filter coefficients.\n",
    "L = 4096                # Length of frequency response.\n",
    "colors = cm.rainbow(np.linspace(0, 1, len(N)))\n",
    "\n",
    "plt.figure(figsize=(8,5))\n",
    "# Compute sinc filter with Hamming window.\n",
    "for N_,c in zip(N, colors):\n",
    "    n = np.arange(N_)\n",
    "    h = np.sinc(2 * fc * (n - (N_ - 1) / 2.)) * np.hamming(N_)\n",
    "    h /= np.sum(h)\n",
    "    \n",
    "    # Pad filter with zeros.\n",
    "    h_padded = np.zeros(L)\n",
    "    h_padded[0 : N_] = h\n",
    " \n",
    "    # Compute frequency response; only keep first half.\n",
    "    H = np.abs(np.fft.fft(h_padded))[0 : L // 2 + 1]\n",
    "    \n",
    "    plt.plot(np.linspace(0, 0.5, len(H)), 20 * np.log10(H), color=c, label='N = ' + str(N_))\n",
    " \n",
    "\n",
    "# Plot frequency response (in dB)\n",
    "plt.title('FIR Low Pass Gain=f(N)')\n",
    "plt.xlabel('Normalized frequency')\n",
    "plt.ylabel('Gain [dB]')\n",
    "plt.ylim([-100, 10])\n",
    "plt.legend()\n",
    "plt.grid()\n",
    "plt.show()"
   ]
  },
  {
   "cell_type": "markdown",
   "metadata": {},
   "source": [
    "### 4.2 FIR Low Pass - Remez Algorithm   \n",
    "http://www.ee.iitm.ac.in/~nitin/teaching/ee5480/fir"
   ]
  },
  {
   "cell_type": "code",
   "execution_count": null,
   "metadata": {},
   "outputs": [],
   "source": [
    "from scipy import signal\n",
    "import matplotlib.pyplot as plt\n",
    "import matplotlib.cm as cm\n",
    "import numpy as np\n",
    "\n",
    "# consts: \n",
    "N = [5,10,20,50,125]  # filter order list;\n",
    "colors = cm.rainbow(np.linspace(0, 1, len(N)))\n",
    "\n",
    "plt.figure(figsize=(8,5))\n",
    "# define FIR based on Remez\n",
    "for N_, c in zip(N, colors):\n",
    "    # remez(numtaps, bands, desired, weight=None, Hz=None, type='bandpass', maxiter=25, grid_density=16, fs=None)\n",
    "    lpf = signal.remez(N_, [0, 0.2, 0.3, 0.5], [1.0, 0.0])\n",
    "\n",
    "    w, h = signal.freqz(lpf) # calc frequency response #freqz(b, a=1, worN=None, whole=False, plot=None)[source]\n",
    "    # print(lpf)\n",
    "    plt.plot(w/(2*np.pi), 20*np.log10(abs(h)), color=c, label='N = ' + str(N_))\n",
    "\n",
    "\n",
    "plt.title('FIR Low Pass Gain=f(N) - Remez Algorithm')\n",
    "plt.xlabel('Normalized frequency')\n",
    "plt.ylabel('Gain [dB]')\n",
    "plt.ylim([-100, 10])\n",
    "plt.legend()\n",
    "plt.grid()\n",
    "plt.show()"
   ]
  },
  {
   "cell_type": "markdown",
   "metadata": {},
   "source": [
    "### 4.3 IIR/FIR Filter Design   \n",
    "- iirfilter() => gain = f(N)\n",
    "- iirdesign() => N = gain(frequency)"
   ]
  },
  {
   "cell_type": "code",
   "execution_count": null,
   "metadata": {},
   "outputs": [],
   "source": [
    "from scipy import signal\n",
    "from scipy.signal import remez\n",
    "from scipy.signal import freqz\n",
    "import matplotlib.pyplot as plt\n",
    "import matplotlib.cm as cm\n",
    "import numpy as np\n",
    "\n",
    "# consts: \n",
    "N = [2,5,10,20,30]  # filter order list;\n",
    "colors = cm.rainbow(np.linspace(0, 1, len(N)))\n",
    "\n",
    "plt.figure(figsize=(10,6))\n",
    "\n",
    "# design w iirfilter; gain=f(N)\n",
    "plt.subplot(121)\n",
    "for N_, c in zip(N, colors):\n",
    "    b, a = signal.iirfilter(N_, 0.2,  btype='lowpass', ftype='butter')\n",
    "    w, h = freqz(b, a) # calc frequency response #freqz(b, a=1, worN=None, whole=False, plot=None)\n",
    "    plt.plot(w/(2*np.pi), 20*np.log10(abs(h)), color=c, label='N = ' + str(N_))\n",
    "\n",
    "plt.title('Butterworth IIR/FIR - IIRFILTER() - Low Pass Gain=f(N)')\n",
    "plt.xlabel('Normalized frequency')\n",
    "plt.ylabel('Gain [dB]')\n",
    "plt.ylim([-100, 10])\n",
    "plt.legend()\n",
    "plt.grid()\n",
    "\n",
    "\n",
    "\n",
    "# design w/ iirdesign(): N=f(f_p, f_s, r_p, a_s)\n",
    "f_p = 0.270   # end of passband, normalized frequency\n",
    "f_s = 0.352   # start of the stopband, normalized frequency \n",
    "r_p = 0.1     # passband maximum loss [dB] (gpass)\n",
    "a_s = 100      # stoppand min attenuation [dB] (gstop)\n",
    "\n",
    "plt.subplot(122)\n",
    "b, a = signal.filter_design.iirdesign(f_p, f_s, r_p, a_s, ftype='butter')\n",
    "w, h = signal.freqz(b, a) # calc frequency response #freqz(b, a=1, worN=None, whole=False, plot=None)\n",
    "plt.plot(w/(2*np.pi), 20*np.log10(abs(h)), label='N = ' + str(len(a)))\n",
    "\n",
    "plt.title('Butterworth IIR/FIR - IIRDESIGN() - Low Pass Gain=f(N)')\n",
    "plt.xlabel('Normalized frequency')\n",
    "plt.ylabel('Gain [dB]')\n",
    "plt.ylim([-100, 10])\n",
    "plt.legend()\n",
    "plt.grid()\n",
    "\n",
    "\n",
    "plt.tight_layout()\n",
    "plt.show()"
   ]
  },
  {
   "cell_type": "markdown",
   "metadata": {},
   "source": [
    "## <a id='MatchedFilter'>5. Matched Filter</a>"
   ]
  },
  {
   "cell_type": "markdown",
   "metadata": {},
   "source": [
    "### 5.1 Scipy Example\n",
    "s. https://docs.scipy.org/doc/scipy/reference/generated/scipy.signal.correlate.html"
   ]
  },
  {
   "cell_type": "code",
   "execution_count": null,
   "metadata": {},
   "outputs": [],
   "source": [
    "from scipy import signal\n",
    "import matplotlib.pyplot as plt\n",
    "import numpy as np\n",
    "\n",
    "# create signals:\n",
    "sig = np.repeat([0., 1., 1., 0., 1., 0., 0., 1.], 128)\n",
    "sig_noise = sig + np.random.randn(len(sig))\n",
    "\n",
    "#\n",
    "corr = signal.correlate(sig_noise, np.ones(128), mode='same') / 128\n",
    "\n",
    "clock = np.arange(64, len(sig), 128)\n",
    "\n",
    "# plot:\n",
    "fig, (ax_orig, ax_noise, ax_corr) = plt.subplots(3, 1, sharex=True)\n",
    "fig.set_size_inches(12, 8)\n",
    "ax_orig.plot(sig)\n",
    "ax_orig.plot(clock, sig[clock,], 'ro')\n",
    "ax_orig.set_title('Original signal')\n",
    "ax_noise.plot(sig_noise)\n",
    "ax_noise.set_title('Signal with noise')\n",
    "ax_corr.plot(corr)\n",
    "ax_corr.plot(clock, corr[clock,], 'ro')\n",
    "ax_corr.axhline(0.5, ls=':')\n",
    "ax_corr.set_title('Cross-correlated with rectangular pulse')\n",
    "ax_orig.margins(0, 0.1)\n",
    "fig.tight_layout()\n",
    "\n",
    "# Note: ignore '... signaltools.py:491: FutureWarning ...' when running script first time, because it's a know scipy bug;just run it again;"
   ]
  },
  {
   "cell_type": "markdown",
   "metadata": {},
   "source": [
    "### 5.2 Sinusoidal signal with Gaussian noise with added "
   ]
  },
  {
   "cell_type": "code",
   "execution_count": null,
   "metadata": {},
   "outputs": [],
   "source": [
    "\"\"\"\n",
    "\"\"\"\n",
    "from scipy import signal\n",
    "import matplotlib.pyplot as plt\n",
    "%matplotlib inline\n",
    "%pylab inline --no-import-all\n",
    "\n",
    "# consts:\n",
    "fs = 4096           # sampling rate [Hz]  \n",
    "T = 4               # duration [s]\n",
    "amp = 0.1           # amplitude of the sinusoid \n",
    "fsin = 13            # frequency of the signal \n",
    "\n",
    "N = T*fs            # total number of points \n",
    "\n",
    "# time interval spaced with 1/fs \n",
    "t = np.arange(0, T, 1./fs)\n",
    " \n",
    "# white noise: \n",
    "noise = np.random.normal(size=t.shape)\n",
    "\n",
    "# sinusoidal signal with amplitude amp:\n",
    "template = amp*np.sin(fsin*2*np.pi*t)\n",
    " \n",
    "# data: signal (template) with added noise \n",
    "data = template + noise\n",
    "\n",
    "# plot:\n",
    "plt.figure()\n",
    "plt.figure(figsize=(14,7))\n",
    "plt.title('Sinusoidal signal with Gaussian noise with added')\n",
    "plt.plot(t, data, '-', color=\"grey\", label='Signal + Noise')\n",
    "plt.plot(t, template, '-', color=\"green\", linewidth=2, label='Signal')\n",
    "plt.xlim(0, T)\n",
    "plt.xlabel('time [s]')\n",
    "plt.ylabel('data = signal + noise')\n",
    "plt.grid(True)\n",
    "plt.legend()\n",
    "plt.show()\n",
    "# plt.savefig(\"gaussian_noise_w_signal.png\", format=\"png\", bbox_inches=\"tight\")\n"
   ]
  },
  {
   "cell_type": "markdown",
   "metadata": {},
   "source": [
    "**Fourier transform of the signals:**"
   ]
  },
  {
   "cell_type": "code",
   "execution_count": null,
   "metadata": {},
   "outputs": [],
   "source": [
    "\"\"\"\n",
    "Discrete Fourier transform of the signal in noise \n",
    "\"\"\"\n",
    "\n",
    "# FFT of the template and the data (not normalized)  \n",
    "template_fft = np.fft.fft(template)\n",
    "data_fft = np.fft.fft(data)\n",
    "\n",
    "# Sampling frequencies up to the Nyquist limit (fs/2)  \n",
    "sample_freq = np.fft.fftfreq(t.shape[-1], 1./fs)\n",
    "\n",
    "# plot:\n",
    "max_f = int(len(data_fft)/2)\n",
    "plt.figure()\n",
    "plt.figure(figsize=(10,5))\n",
    "plt.plot(sample_freq[:max_f], np.abs(data_fft[:max_f])/np.sqrt(fs), color=\"grey\", label='Signal + Noise')\n",
    "plt.plot(sample_freq[:max_f], np.abs(template_fft[:max_f])/np.sqrt(fs), color=\"red\", alpha=0.5, linewidth=4, label='Signal')\n",
    "\n",
    "# taking positive spectrum only: plt.xlim(0, np.max(sample_freq)) \n",
    "plt.title('DFT of Signal and Noise')\n",
    "plt.xlim(0, 4 * fsin)\n",
    "plt.xlabel('Frequency [Hz]')\n",
    "plt.ylabel('Power')\n",
    "plt.grid(True)\n",
    "plt.legend()\n",
    "plt.show()\n"
   ]
  },
  {
   "cell_type": "markdown",
   "metadata": {},
   "source": [
    "#### Exercise\n",
    "**Create and apply Matched Filter:**\n",
    "1. DFT(original signal)\n",
    "2. Conjugate complex of 1.\n",
    "3. Apply filter\n",
    "4. Inverse DFT of filtered signal"
   ]
  },
  {
   "cell_type": "code",
   "execution_count": null,
   "metadata": {},
   "outputs": [],
   "source": [
    "\"\"\"\n",
    "Matched filter \n",
    "\"\"\"\n",
    "# conjugate complex of original signal i.e. the matched filter:\n",
    "matched_filter=np.conj(template_fft)\n",
    "\n",
    "# apply filter:\n",
    "signal_f=matched_filter*data_fft\n",
    "\n",
    "# transform to time domain:\n",
    "signal_t=2*np.fft.ifft(signal_f)/N\n",
    "\n",
    "# plot:\n",
    "plt.figure(figsize=(12,6))\n",
    "plt.plot(t[:int(N/5)], template[:int(N/5)], '-', color=\"green\", linewidth=2, label='Signal org')\n",
    "plt.plot(t[:int(N/5)],np.real(10*signal_t[:int(N/5)]), '-', color=\"red\", linewidth=2, label='Signal recovered')\n",
    "plt.grid(True)\n",
    "plt.legend()\n",
    "plt.show()"
   ]
  }
 ],
 "metadata": {
  "kernelspec": {
   "display_name": "Python 3",
   "language": "python",
   "name": "python3"
  },
  "language_info": {
   "codemirror_mode": {
    "name": "ipython",
    "version": 3
   },
   "file_extension": ".py",
   "mimetype": "text/x-python",
   "name": "python",
   "nbconvert_exporter": "python",
   "pygments_lexer": "ipython3",
   "version": "3.7.1"
  }
 },
 "nbformat": 4,
 "nbformat_minor": 2
}
