{
 "cells": [
  {
   "cell_type": "markdown",
   "metadata": {},
   "source": [
    "# Lecture Sensorik - Kfz-Sensoren\n",
    "*HS-Kempten FA204 © R. Aue*"
   ]
  },
  {
   "cell_type": "markdown",
   "metadata": {},
   "source": [
    "## Exercise RMS  \n",
    "*(s.a. rms.py)*"
   ]
  },
  {
   "cell_type": "markdown",
   "metadata": {},
   "source": [
    "*RMS = Root Mean Square (dt. Effektivwert):*  \n",
    "$a_{RMS} = \\sqrt{1/T  \\int_{0}^{T} a(t)^2 dt} $"
   ]
  },
  {
   "cell_type": "code",
   "execution_count": 1,
   "metadata": {},
   "outputs": [
    {
     "name": "stdout",
     "output_type": "stream",
     "text": [
      "RMS (trapezoidalRule) = 7.834429407002897\n",
      "RMS (simpsonRule) = 7.8344452996137806\n"
     ]
    },
    {
     "data": {
      "text/plain": "<Figure size 432x288 with 1 Axes>",
      "image/png": "[encoded data removed]"
     },
     "metadata": {
      "needs_background": "light"
     },
     "output_type": "display_data"
    }
   ],
   "source": [
    "from scipy import integrate\n",
    "import matplotlib.pyplot as plt\n",
    "import numpy as np\n",
    "import math as m\n",
    "\n",
    "# consts:\n",
    "tp = 0.5 # lenght of period [s]\n",
    "tstep = 0.01 # time step\n",
    "tcut = 0.4 # cutoff time [s]\n",
    "peak = 15 # max value of sawtooth\n",
    "gradient = peak / tcut  # gradient linear function\n",
    "\n",
    "# set up timescale with known spacing tstep (use linspace() i.o. arange() due to endpoint value)\n",
    "t = np.linspace(0., tp, num= int(tp/tstep))\n",
    "\n",
    "\n",
    "# compute function values:\n",
    "y = gradient * t\n",
    "\n",
    "\n",
    "# get length of non-zeros:\n",
    "pad = tcut / tstep\n",
    "# ... and set the remaining to 0:\n",
    "for i in range(int(pad), len(y)):\n",
    "    y[i] = 0.0\n",
    "    \n",
    "# expected: >>> m.sqrt(1/0.5*(15/0.4)**2 /3 * 0.4**3)= 7.745966692414835\n",
    "# in case of plain - i.e. w/o cutoff - sawtooth signal => y_eff = y_peak / sqrt(3)\n",
    "# trapezoidal rule:\n",
    "yeff = m.sqrt((integrate.trapz(y**2, t, 0.01))/tp)\n",
    "print('RMS (trapezoidalRule) = ' + str(yeff))\n",
    "\n",
    "# simpson rule\n",
    "yeff = m.sqrt((integrate.simps(y**2, t))/tp)\n",
    "print('RMS (simpsonRule) = ' + str(yeff))\n",
    "\n",
    "\n",
    "# plot the data\n",
    "plt.plot(t,y)\n",
    "plt.grid()\n",
    "plt.title('rms.py')\n",
    "plt.xlabel('time (s)')\n",
    "plt.ylabel('U [V]')\n",
    "plt.ylim(0, peak+1)\n",
    "\n",
    "plt.show()"
   ]
  }
 ],
 "metadata": {
  "kernelspec": {
   "display_name": "Python 3",
   "language": "python",
   "name": "python3"
  },
  "language_info": {
   "codemirror_mode": {
    "name": "ipython",
    "version": 3
   },
   "file_extension": ".py",
   "mimetype": "text/x-python",
   "name": "python",
   "nbconvert_exporter": "python",
   "pygments_lexer": "ipython3",
   "version": "3.7.4"
  }
 },
 "nbformat": 4,
 "nbformat_minor": 2
}