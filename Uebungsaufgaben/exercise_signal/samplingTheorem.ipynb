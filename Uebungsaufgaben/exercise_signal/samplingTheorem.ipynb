{
 "cells": [
  {
   "cell_type": "markdown",
   "metadata": {},
   "source": [
    "# Lecture Sensorik - Sampling Theorem\n",
    "*HS-Kempten FA204 WS 2018/2019 © R. Aue*"
   ]
  },
  {
   "cell_type": "markdown",
   "metadata": {},
   "source": [
    "## Sine Wave"
   ]
  },
  {
   "cell_type": "markdown",
   "metadata": {},
   "source": [
    "*Sine Wave*:  \n",
    "$x(t) = x_0 \\cdot sin(2 \\cdot \\pi \\cdot f \\cdot t) $"
   ]
  },
  {
   "cell_type": "markdown",
   "metadata": {},
   "source": [
    "### **1. Analog Sine Signal** "
   ]
  },
  {
   "cell_type": "code",
   "execution_count": null,
   "metadata": {},
   "outputs": [],
   "source": [
    "%matplotlib inline\n",
    "from matplotlib.pylab import *\n",
    "\n",
    "fig,ax = subplots()\n",
    "f = 1.0 # Hz, signal frequency\n",
    "fs = 500.0 # Hz, sampling rate (ie. >= 2*f)\n",
    "t = np.arange(-1,1+1/fs,1/fs) # sample interval, symmetric\n",
    "\n",
    "# signal:\n",
    "x = sin(2*pi*f*t)\n",
    "\n",
    "ax.plot(t,x)\n",
    "ax.set_xlabel('Time',fontsize=18)\n",
    "ax.set_ylabel('Amplitude',fontsize=18)\n",
    "fig.set_size_inches(8,6)\n",
    "show()"
   ]
  },
  {
   "cell_type": "markdown",
   "metadata": {},
   "source": [
    "### **2. Sample w/ $f_s$ of 5 Hz**"
   ]
  },
  {
   "cell_type": "code",
   "execution_count": null,
   "metadata": {},
   "outputs": [],
   "source": [
    "# from __future__ import division\n",
    "# %matplotlib inline\n",
    "from matplotlib.pylab import *\n",
    "import numpy as np\n",
    "\n",
    "fig,ax = subplots()\n",
    "f = 1.0 # Hz, signal frequency\n",
    "fs = 5.0 # Hz, sampling rate (ie. >= 2*f)\n",
    "t = np.arange(-1,1+1/fs,1/fs) # sample interval, symmetric\n",
    "\n",
    "# for convenience later\n",
    "x = sin(2*pi*f*t)\n",
    "ax.plot(t,x,'o-')\n",
    "ax.set_xlabel('Time',fontsize=18)\n",
    "ax.set_ylabel('Amplitude',fontsize=18)\n",
    "fig.set_size_inches(8,6)\n",
    "show()"
   ]
  },
  {
   "cell_type": "markdown",
   "metadata": {},
   "source": [
    "**Exercise:** change sampling frequency $f_s$"
   ]
  },
  {
   "cell_type": "markdown",
   "metadata": {},
   "source": [
    "### **3. Show error of sine function and corresponding linear interploation**"
   ]
  },
  {
   "cell_type": "code",
   "execution_count": null,
   "metadata": {},
   "outputs": [],
   "source": [
    "from matplotlib.pylab import *\n",
    "import numpy as np\n",
    "\n",
    "# consts:\n",
    "f = 1.0 # Hz, signal frequency\n",
    "fs = 5.0 # Hz, sampling rate (ie. >= 2*f)\n",
    "t = arange(-1,1+1/fs,1/fs) # sample interval, symmetric\n",
    "\n",
    "# sine signal:\n",
    "x = sin(2*pi*f*t)\n",
    "\n",
    "interval=[] # piecewise domains\n",
    "apprx = [] # line on domains\n",
    "# build up points *evenly* inside of intervals\n",
    "tp = hstack([linspace(t[i],t[i+1],20,False) for i in range(len(t)-1)])\n",
    "# construct arguments for piecewise\n",
    "for i in range(len(t)-1):\n",
    "    interval.append(logical_and(t[i] <= tp,tp < t[i+1]))\n",
    "    apprx.append((x[i+1]-x[i])/(t[i+1]-t[i])*(tp[interval[-1]]-t[i]) + x[i])\n",
    "x_hat = piecewise(tp,interval,apprx) # piecewise linear approximation\n",
    "\n",
    "fig,ax1=subplots()\n",
    "# fill in the difference between the interpolant and the sine\n",
    "ax1.fill_between(tp,x_hat,sin(2*pi*f*tp),facecolor='blue')\n",
    "ax1.set_xlabel('Time',fontsize=18)\n",
    "ax1.set_ylabel('Amplitude',fontsize=18)\n",
    "ax2 = ax1.twinx() # create clone of ax1\n",
    "sqe = (x_hat-sin(2*pi*f*tp))**2 #compute squared-error\n",
    "ax2.plot(tp, sqe,'r')\n",
    "ax2.axis(xmin=-1,ymax= sqe.max() )\n",
    "ax2.set_ylabel('Squared error', color='r',fontsize=18)\n",
    "ax1.set_title('Errors with Piecewise Linear Interpolant',fontsize=18)\n",
    "fig.set_size_inches(8,6)\n",
    "show()"
   ]
  },
  {
   "cell_type": "markdown",
   "metadata": {},
   "source": [
    "**Exercise:** change sampling frequency $f_s$ and check, how error changes;"
   ]
  },
  {
   "cell_type": "markdown",
   "metadata": {},
   "source": [
    "### **4. Reconstruction of the original sine signal:**"
   ]
  },
  {
   "cell_type": "markdown",
   "metadata": {},
   "source": [
    "Band limited signal $x(t)$ can be reconstructed based on discrete samples $x(k\\Delta t)$:  \n",
    "$x(t) = \\sum\\limits_{k=-\\infty1}^\\infty x(k\\Delta t) \\cdot sinc(\\frac{1}{\\Delta t}(t -k\\Delta t))$\n",
    "\n",
    "with  \n",
    "\n",
    "si function: $si(x) = sinc(x) = \\frac{sin(x)}{x}$  \n",
    "\n",
    "$\\Rightarrow$  highest angular frequency: $\\frac{\\pi}{\\Delta t}$  (resp. $\\frac{1}{2\\Delta t}$)  \n",
    "\n",
    "If conditions above not met (i.e. signal frequency tto high or sampling frequency too small  \n",
    "$\\Rightarrow$ high frequencies are mapped to lower frequencies (aliasing) \n"
   ]
  },
  {
   "cell_type": "code",
   "execution_count": null,
   "metadata": {},
   "outputs": [],
   "source": [
    "from matplotlib.pylab import *\n",
    "import numpy as np\n",
    "\n",
    "fig,ax = subplots()\n",
    "f = 1.0 # Hz, signal frequency\n",
    "fs = 50.0 # Hz, sampling rate (ie. >= 2*f)\n",
    "t = np.arange(-5,5+1/fs,1/fs) # sample interval, symmetric\n",
    "\n",
    "# signal:\n",
    "x = sin(2*pi*f*t) / (2*pi*f*t)\n",
    "\n",
    "ax.plot(t,x)\n",
    "ax.set_title('SI / SINC function',fontsize=18)\n",
    "ax.set_xlabel('Time',fontsize=18)\n",
    "ax.set_ylabel('Amplitude',fontsize=18)\n",
    "fig.set_size_inches(8,6)\n",
    "show()"
   ]
  },
  {
   "cell_type": "markdown",
   "metadata": {},
   "source": [
    "#### **4.1: Applying SINC Interpolator:**"
   ]
  },
  {
   "cell_type": "code",
   "execution_count": null,
   "metadata": {},
   "outputs": [],
   "source": [
    "from matplotlib.pylab import *\n",
    "import numpy as np\n",
    "import math as m\n",
    "\n",
    "# consts:\n",
    "f = 1.0 # Hz, signal frequency\n",
    "fs = 2.5 # Hz, sampling rate (ie. >= 2*f)\n",
    "t = arange(-1,1+1/fs,1/fs) # sample interval, symmetric\n",
    "\n",
    "\n",
    "fig,ax=subplots()\n",
    "t = np.linspace(-1,1,100) # redefine this here for convenience\n",
    "ts = np.arange(-1,1+1/fs,1/fs) # sample points\n",
    "num_coeffs=len(ts)\n",
    "sm=0\n",
    "for k in range(-num_coeffs,num_coeffs): \n",
    "    sm += m.sin(2*pi*(k/fs))*sinc(k - fs*t)\n",
    "ax.plot(t,sm,'--',t,sin(2*pi*t),'+',ts, sin(2*pi*ts),'o')\n",
    "ax.set_title('Sampling Rate=%3.2f Hz' % fs, fontsize=18)\n",
    "fig.set_size_inches(8,6)\n",
    "show()"
   ]
  }
 ],
 "metadata": {
  "kernelspec": {
   "display_name": "Python 3",
   "language": "python",
   "name": "python3"
  },
  "language_info": {
   "codemirror_mode": {
    "name": "ipython",
    "version": 3
   },
   "file_extension": ".py",
   "mimetype": "text/x-python",
   "name": "python",
   "nbconvert_exporter": "python",
   "pygments_lexer": "ipython3",
   "version": "3.7.0"
  }
 },
 "nbformat": 4,
 "nbformat_minor": 2
}
