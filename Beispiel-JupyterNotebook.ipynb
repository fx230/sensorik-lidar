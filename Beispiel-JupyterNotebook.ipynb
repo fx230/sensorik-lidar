{
 "cells": [
  {
   "cell_type": "markdown",
   "metadata": {},
   "source": [
    "# Beispiel-Übungsblatt 1\n",
    "\n",
    "Lernziele:\n",
    "- Arbeiten mit Stichproben\n",
    "- Visualisierung von Daten\n",
    "\n"
   ]
  },
  {
   "cell_type": "markdown",
   "metadata": {},
   "source": [
    "Schritt 1: Lesen Sie mit Hilfe von Pandas die Daten aus 'data/2d_samples.csv' ein und geben Sie die ersten fünf Datensätze aus!"
   ]
  },
  {
   "cell_type": "code",
   "execution_count": null,
   "metadata": {
    "scrolled": false
   },
   "outputs": [],
   "source": []
  },
  {
   "cell_type": "markdown",
   "metadata": {},
   "source": [
    "Schritt 2: Erstellen Sie mit Matplotlib ein Histogramm aus dem ersten Merkmal **x1**! \n",
    "\n",
    "Hinweis: Verwenden Sie die Funktion _hist()_!"
   ]
  },
  {
   "cell_type": "code",
   "execution_count": null,
   "metadata": {},
   "outputs": [],
   "source": []
  },
  {
   "cell_type": "markdown",
   "metadata": {},
   "source": [
    "Schritt 3: Erstellen Sie mit Matplotlib einen Scatterplot mit beiden Merkmalen **x1** und **x2**! \n",
    "\n",
    "Hinweis: Verwenden Sie die Funktion _scatter()_!"
   ]
  },
  {
   "cell_type": "code",
   "execution_count": null,
   "metadata": {},
   "outputs": [],
   "source": []
  }
 ],
 "metadata": {
  "celltoolbar": "Raw Cell Format",
  "kernelspec": {
   "display_name": "Python 3",
   "language": "python",
   "name": "python3"
  },
  "language_info": {
   "codemirror_mode": {
    "name": "ipython",
    "version": 3
   },
   "file_extension": ".py",
   "mimetype": "text/x-python",
   "name": "python",
   "nbconvert_exporter": "python",
   "pygments_lexer": "ipython3",
   "version": "3.6.4"
  }
 },
 "nbformat": 4,
 "nbformat_minor": 1
}